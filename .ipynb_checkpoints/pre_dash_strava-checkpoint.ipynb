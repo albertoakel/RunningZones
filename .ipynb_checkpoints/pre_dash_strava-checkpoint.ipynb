{
 "cells": [
  {
   "cell_type": "markdown",
   "id": "81dacd5e-961c-4ad4-ac41-297ea0514e46",
   "metadata": {},
   "source": [
    "## Teste dashboard"
   ]
  },
  {
   "cell_type": "code",
   "execution_count": null,
   "id": "4c9ef0d6-5bef-49c9-8c04-1eb2e3350810",
   "metadata": {},
   "outputs": [],
   "source": [
    "from running_functions import *\n",
    "import matplotlib.pylab as plt\n",
    "import time\n",
    "import streamlit as st\n",
    "import plotly.graph_objects as go\n",
    "import plotly.express as px\n",
    "from running_functions import gpxfile_imp\n",
    "from datetime import datetime, timedelta\n",
    "import locale\n",
    "locale.setlocale(locale.LC_TIME, \"pt_BR.utf8\")\n",
    "#carregar_basededados\n",
    "df = pd.read_parquet(\"data_base.parquet\")  # Carregar\n",
    "print('base de dados:')\n",
    "print('Periodo:',df['date'][0],'-',df['date'].iloc[-1])\n",
    "print('total de atividades:',df['date'].nunique())"
   ]
  }
 ],
 "metadata": {
  "kernelspec": {
   "display_name": "Python 3 (ipykernel)",
   "language": "python",
   "name": "python3"
  },
  "language_info": {
   "codemirror_mode": {
    "name": "ipython",
    "version": 3
   },
   "file_extension": ".py",
   "mimetype": "text/x-python",
   "name": "python",
   "nbconvert_exporter": "python",
   "pygments_lexer": "ipython3",
   "version": "3.11.5"
  }
 },
 "nbformat": 4,
 "nbformat_minor": 5
}
