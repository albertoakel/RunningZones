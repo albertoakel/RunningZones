{
 "cells": [
  {
   "cell_type": "markdown",
   "id": "81dacd5e-961c-4ad4-ac41-297ea0514e46",
   "metadata": {},
   "source": [
    "## Pré-Dash Strava\n",
    "### Testes e organização dos dados para dashboad"
   ]
  },
  {
   "cell_type": "code",
   "execution_count": 2,
   "id": "4c9ef0d6-5bef-49c9-8c04-1eb2e3350810",
   "metadata": {},
   "outputs": [
    {
     "name": "stdout",
     "output_type": "stream",
     "text": [
      "base de dados:\n",
      "Periodo: 06/03/2025-06:29 - 26/07/2023-05:44\n",
      "total de atividades: 438\n"
     ]
    }
   ],
   "source": [
    "from running_functions import *\n",
    "import matplotlib.pylab as plt\n",
    "import time\n",
    "import streamlit as st\n",
    "import plotly.graph_objects as go\n",
    "import plotly.express as px\n",
    "from running_functions import gpxfile_imp\n",
    "from datetime import datetime, timedelta\n",
    "import locale\n",
    "locale.setlocale(locale.LC_TIME, \"pt_BR.utf8\")\n",
    "#carregar_basededados\n",
    "df = pd.read_parquet(\"data_base.parquet\")  # Carregar\n",
    "print('base de dados:')\n",
    "print('Periodo:',df['date'][0],'-',df['date'].iloc[-1])\n",
    "print('total de atividades:',df['date'].nunique()) \n",
    "\n",
    "#indice da primeira ocorrencia\n",
    "first_ocorr = df.drop_duplicates(subset='date', keep='first')\n",
    "ind_first_ocorr = first_ocorr.index #indice_das_atividades\n"
   ]
  },
  {
   "cell_type": "code",
   "execution_count": 3,
   "id": "648b2dfb-1fad-4956-aee3-ca23fd5f7ff9",
   "metadata": {},
   "outputs": [],
   "source": [
    "atv_week,list_atv=data_week(df)\n",
    "#print('Total semanas:',len(atv_week))\n",
    "\n",
    "atv_week.iloc[[1]]\n",
    "#pd.set_option('display.max_row', None)\n",
    "pd.set_option('display.max_colwidth', None)\n",
    "pd.set_option('display.width', None)"
   ]
  },
  {
   "cell_type": "code",
   "execution_count": null,
   "id": "becff2c1-0230-4f8a-b258-ae278c7fdf43",
   "metadata": {},
   "outputs": [],
   "source": [
    "#plotar Volume\n",
    "# Vol,Date_Vol=vol_week(df,atv_week,16)\n",
    "# plt.bar(Date_Vol,Vol)\n",
    "# plt.xticks(rotation=45,fontsize=8)\n",
    "# plt.show()"
   ]
  },
  {
   "cell_type": "code",
   "execution_count": 25,
   "id": "a3003ff7-2e27-425f-afa0-7738bd808a97",
   "metadata": {},
   "outputs": [],
   "source": [
    "# plt.figure(figsize=(14, 5))\n",
    "# i=2\n",
    "# data_e = [lista_atv[i]]\n",
    "# df0 = df[df['date'].isin(data_e)]\n",
    "# #plt.scatter(df0['distance'], df0['pace'])\n",
    "# plt.title(df0['date'].iloc[0][0:10])\n",
    "# plt.ylim([3,7])\n",
    "\n",
    "# #filtragens\n",
    "# df_m=df0[df0['moving']==True] #apenas em movimento\n",
    "# df_p=df_m[(df_m['pace']<=7) &(df_m['pace']>=3) ]\n",
    "\n",
    "# #plt.scatter(df_m['distance'], df_m['pace'])\n",
    "# plt.scatter(df_p['distance'], df_p['pace'])\n",
    "# plt.draw()  # Atualiz o grafico \n",
    "#     #o gráfico\n",
    "# plt.pause(0.1)  # Pausa para garantir que o gráfico seja exibido\n",
    "#     #plt.waitforbuttonpress()\n",
    "#     #plt.ginput(1)"
   ]
  },
  {
   "cell_type": "code",
   "execution_count": 27,
   "id": "2394f824-e194-4737-9f97-0989a778f682",
   "metadata": {},
   "outputs": [
    {
     "data": {
      "image/png": "[encoded data removed]",
      "text/plain": [
       "<Figure size 640x480 with 1 Axes>"
      ]
     },
     "metadata": {},
     "output_type": "display_data"
    }
   ],
   "source": [
    "#calcular volume por zona\n",
    "ftpa='4:10'\n",
    "z=pace_zones(ftpa) #calculo_zonas\n",
    "#leitura da semana\n",
    "#atv_week.iloc[[1]]\n",
    "\n",
    "datas_da_semana = atv_week['datas_da_semana'][1]\n",
    "colors = ['#1f77b4', '#ff7f0e', '#2ca02c', '#d62728', '#9467bd', '#8c564b', '#e377c2']  # Paleta de cores fixa\n",
    "colors = ['#800080', '#00008b', '#5f9ea0','#ffa500','#d2691e','#ff0000','#8b0000']\n",
    "for data in datas_da_semana:\n",
    "    df0 = df[df['date'] == data]\n",
    "    \n",
    "    # Filtragem dos dados\n",
    "    df_m = df0[df0['moving']]\n",
    "    df_p = df_m[(df_m['pace'] <= 7) & (df_m['pace'] >= 3)]\n",
    "    \n",
    "    t, d, p = df_p['time'], df_p['distance'], df_p['pace']\n",
    "    zn = find_zones(p, t, d, z)\n",
    "    \n",
    "    valores = np.array(zn['p_zones'][2:9]) * 100\n",
    "    zonas = ['z1', 'z2', 'z3', 'z4', 'z5a', 'z5b', 'z5c']\n",
    "    \n",
    "    bottom = 0\n",
    "    for i, (zona, valor) in enumerate(zip(zonas, valores)):\n",
    "        plt.bar(data[0:5], valor, bottom=bottom, label=zona, color=colors[i])\n",
    "        bottom += valor\n",
    "\n",
    "plt.ylabel('Valores')\n",
    "plt.title('Gráfico de Barra Empilhada')\n",
    "plt.xticks(rotation=45)  # Rotaciona os rótulos para melhor visualização\n",
    "# plt.legend(loc='upper right')  # Adiciona a legenda, se necessário\n",
    "\n",
    "plt.show()\n"
   ]
  },
  {
   "cell_type": "code",
   "execution_count": null,
   "id": "2293b65c-a9e3-4e54-874a-920e3b1f973c",
   "metadata": {},
   "outputs": [],
   "source": []
  }
 ],
 "metadata": {
  "kernelspec": {
   "display_name": "Python 3 (ipykernel)",
   "language": "python",
   "name": "python3"
  },
  "language_info": {
   "codemirror_mode": {
    "name": "ipython",
    "version": 3
   },
   "file_extension": ".py",
   "mimetype": "text/x-python",
   "name": "python",
   "nbconvert_exporter": "python",
   "pygments_lexer": "ipython3",
   "version": "3.11.5"
  }
 },
 "nbformat": 4,
 "nbformat_minor": 5
}
